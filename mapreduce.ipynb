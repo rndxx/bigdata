{
 "cells": [
  {
   "cell_type": "markdown",
   "metadata": {},
   "source": [
    "# MapReduce"
   ]
  },
  {
   "cell_type": "markdown",
   "metadata": {},
   "source": [
    "## Data\n",
    "\n",
    "Скачать файл VisitsSteram.tsv https://www.kaggle.com/c/avito-context-ad-clicks \n",
    "\n",
    "В VisitsStream.tsv лежит информация про пользователей, которые открывают сайт. Используя классический MapReduce необходимо посчитать топ 10 пользователей с самыми длинными по времени сессиями и время этой самой длинной сессии (в секундах).\n",
    "\n",
    "Сессия определяется следующим образом - это окно времени, внутри которого временное расстояние от двух соседних посещений не более 15 минут.\n",
    "\n",
    "Иными словами - если пользователь зашел на сайт в момент X и последнее предыдущее посещение сайта в момент Y было не позднее чем 15 минут назад, то сессия \"продлевается\" до текущего момента. Если же временное расстояние от X до Y более 15 минут, то считается, что предыдущая сессия закончилась в момент Y, а новая сессия началась в момент X.\n",
    "\n",
    "Выводить нужно только уникальных пользователей и для каждого такого пользователя находить время самой длинной его сессии."
   ]
  },
  {
   "cell_type": "code",
   "execution_count": 1,
   "metadata": {},
   "outputs": [
    {
     "name": "stdout",
     "output_type": "stream",
     "text": [
      "59703\t1259356\t469877\t2015-04-25 00:00:00.0\n",
      "154389\t1846749\t27252551\t2015-04-25 00:00:00.0\n",
      "218628\t2108380\t31685325\t2015-04-25 00:00:00.0\n",
      "231535\t837110\t18827716\t2015-04-25 00:00:00.0\n",
      "282306\t1654210\t29363673\t2015-04-25 00:00:00.0\n",
      "295068\t601505\t588324\t2015-04-25 00:00:00.0\n",
      "501897\t158476\t4103261\t2015-04-25 00:00:00.0\n",
      "655394\t631692\t9860544\t2015-04-25 00:00:00.0\n",
      "765603\t804403\t29475627\t2015-04-25 00:00:00.0\n",
      "790289\t121085\t23309988\t2015-04-25 00:00:00.0\n",
      "cat: write error: Broken pipe\n"
     ]
    }
   ],
   "source": [
    "! cat data/VisitsStream.tsv | head "
   ]
  },
  {
   "cell_type": "code",
   "execution_count": 2,
   "metadata": {},
   "outputs": [],
   "source": [
    "# delete header\n",
    "# ! for filename in data/*; do sed $filename -i -e '1d' && echo finish $filename ; done"
   ]
  },
  {
   "cell_type": "code",
   "execution_count": 3,
   "metadata": {},
   "outputs": [
    {
     "name": "stdout",
     "output_type": "stream",
     "text": [
      "cat: write error: Broken pipe\n"
     ]
    }
   ],
   "source": [
    "! cat data/VisitsStream.tsv | head -n 200000 > test.tsv"
   ]
  },
  {
   "cell_type": "markdown",
   "metadata": {},
   "source": [
    "### user [sessions]"
   ]
  },
  {
   "cell_type": "code",
   "execution_count": 4,
   "metadata": {},
   "outputs": [
    {
     "name": "stdout",
     "output_type": "stream",
     "text": [
      "Writing user_date.py\n"
     ]
    }
   ],
   "source": [
    "%%writefile user_date.py\n",
    "\n",
    "import sys\n",
    "\n",
    "def mapper():\n",
    "    for line in sys.stdin:\n",
    "        user, *_, date = [i.strip() for i in line.split('\\t')]\n",
    "        date = date[:-2]\n",
    "        print(f'{user}\\t{date}')\n",
    "\n",
    "def reducer():\n",
    "    user, date = next(sys.stdin).split('\\t')\n",
    "    date = [date.strip()]\n",
    "    for line in sys.stdin:\n",
    "        user_current, date_current = line.split('\\t')\n",
    "        date_current = date_current.strip()\n",
    "        if  user != user_current:\n",
    "            print(f'{user}\\t{date}')\n",
    "            user, date = user_current, [date_current]\n",
    "        else:\n",
    "            date += [date_current]\n",
    "    print(f'{user}\\t{date}')\n",
    "\n",
    "if __name__ == '__main__':\n",
    "    func = sys.argv[1]\n",
    "    {\n",
    "        'map': mapper,\n",
    "        'reduce': reducer\n",
    "    }[func]()\n"
   ]
  },
  {
   "cell_type": "code",
   "execution_count": 5,
   "metadata": {},
   "outputs": [],
   "source": [
    "! cat test.tsv | \\\n",
    "    python user_date.py map | \\\n",
    "    sort -n -k 1 | \\\n",
    "    python user_date.py reduce > sessions.txt"
   ]
  },
  {
   "cell_type": "markdown",
   "metadata": {},
   "source": [
    "### top 10 longest session"
   ]
  },
  {
   "cell_type": "code",
   "execution_count": 7,
   "metadata": {},
   "outputs": [
    {
     "name": "stdout",
     "output_type": "stream",
     "text": [
      "Writing user_session.py\n"
     ]
    }
   ],
   "source": [
    "%%writefile user_session.py\n",
    "\n",
    "import sys\n",
    "from datetime import datetime, timedelta\n",
    "\n",
    "def mapper():\n",
    "    interval = timedelta(minutes=15)\n",
    "    for line in sys.stdin:\n",
    "        user, date = [i.strip() for i in line.split('\\t')]\n",
    "        date = iter(eval(date))\n",
    "        date_max = timedelta(seconds=0)\n",
    "        date_start = datetime.strptime(next(date), '%Y-%m-%d %H:%M:%S')\n",
    "        date_end = date_start\n",
    "\n",
    "        for i in date:\n",
    "            date_next = datetime.strptime(i, '%Y-%m-%d %H:%M:%S')\n",
    "            if (date_next - date_end) > interval:\n",
    "                session_long = date_next - date_start\n",
    "                if session_long > date_max:\n",
    "                    date_max = session_long\n",
    "                date_start, date_end = date_end, date_end\n",
    "            else:\n",
    "                date_end = date_next\n",
    "\n",
    "        session_long = date_next - date_start\n",
    "        if session_long > date_max:\n",
    "            date_max = session_long\n",
    "\n",
    "        date_max = int(date_max.total_seconds())\n",
    "        print(f'{user}\\t{date_max}')\n",
    "\n",
    "\n",
    "# def reducer():\n",
    "#     user, count = next(sys.stdin).split('\\t')\n",
    "#     count = int(count.strip())\n",
    "#     for line in sys.stdin:\n",
    "#         user_current, count_current = line.split('\\t')\n",
    "#         count_current = int(count_current.strip())\n",
    "#         if user != user_current:\n",
    "#             print(f'{user}\\t{count}')\n",
    "#             user, count = user_current, count_current\n",
    "#         else:\n",
    "#             count += count_current\n",
    "#     print(f'{user} {count}')\n",
    "\n",
    "\n",
    "if __name__ == '__main__':\n",
    "    func = sys.argv[1]\n",
    "    {\n",
    "        'map': mapper,\n",
    "        'reduce': reducer\n",
    "    }[func]()\n"
   ]
  },
  {
   "cell_type": "code",
   "execution_count": 12,
   "metadata": {},
   "outputs": [],
   "source": [
    "! cat session.txt | \\\n",
    "    python user_session.py map | \\\n",
    "    sort -k2nr > top10.txt"
   ]
  },
  {
   "cell_type": "code",
   "execution_count": 13,
   "metadata": {},
   "outputs": [
    {
     "name": "stdout",
     "output_type": "stream",
     "text": [
      "4285777\t4329\n",
      "1203081\t4323\n",
      "3327027\t4321\n",
      "2657836\t4318\n",
      "4077325\t4314\n",
      "2845015\t4311\n",
      "296473\t4311\n",
      "4321061\t4310\n",
      "457844\t4310\n",
      "499117\t4309\n",
      "cat: write error: Broken pipe\n"
     ]
    }
   ],
   "source": [
    "! cat top10.txt | head -n 10"
   ]
  }
 ],
 "metadata": {
  "interpreter": {
   "hash": "a9e8799e652634cd24bcc82895a57e73b38d8c2f85f0c847754a0b53cce2bdad"
  },
  "kernelspec": {
   "display_name": "Python 3.8.5 64-bit ('cv')",
   "language": "python",
   "name": "python3"
  },
  "language_info": {
   "codemirror_mode": {
    "name": "ipython",
    "version": 3
   },
   "file_extension": ".py",
   "mimetype": "text/x-python",
   "name": "python",
   "nbconvert_exporter": "python",
   "pygments_lexer": "ipython3",
   "version": "3.8.5"
  },
  "orig_nbformat": 4
 },
 "nbformat": 4,
 "nbformat_minor": 2
}
